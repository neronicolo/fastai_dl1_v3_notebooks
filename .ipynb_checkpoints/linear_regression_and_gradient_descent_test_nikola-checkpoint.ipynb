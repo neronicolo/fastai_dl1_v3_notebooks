{
 "cells": [
  {
   "cell_type": "code",
   "execution_count": 26,
   "metadata": {},
   "outputs": [],
   "source": [
    "from fastai.vision import *\n",
    "from fastai.metrics import error_rate "
   ]
  },
  {
   "cell_type": "code",
   "execution_count": 27,
   "metadata": {},
   "outputs": [
    {
     "data": {
      "text/plain": [
       "(tensor([[1., 1.],\n",
       "         [1., 1.],\n",
       "         [1., 1.],\n",
       "         [1., 1.],\n",
       "         [1., 1.]]), tensor([1., 1., 1., 1., 1.]), tensor([3., 2.]))"
      ]
     },
     "execution_count": 27,
     "metadata": {},
     "output_type": "execute_result"
    }
   ],
   "source": [
    "## z = wx + b\n",
    "## n number of rows\n",
    "n = 50\n",
    "## m number of columns \n",
    "m = 2\n",
    "\n",
    "w = torch.ones(n,m)\n",
    "b = torch.ones(n)\n",
    "x = tensor(3., 2)\n",
    "w[:5], b[:5], x"
   ]
  },
  {
   "cell_type": "code",
   "execution_count": 28,
   "metadata": {},
   "outputs": [
    {
     "data": {
      "text/plain": [
       "(tensor([[ 0.9951,  1.0000],\n",
       "         [-0.0124,  1.0000],\n",
       "         [ 0.4208,  1.0000],\n",
       "         [ 0.0080,  1.0000],\n",
       "         [-0.7864,  1.0000]]),\n",
       " tensor([-0.2424,  0.9915,  0.7188, -0.7910,  0.7701]))"
      ]
     },
     "execution_count": 28,
     "metadata": {},
     "output_type": "execute_result"
    }
   ],
   "source": [
    "w[:,0].uniform_(-1., 1)\n",
    "b.uniform_(-1., 1)\n",
    "w[:5], b[:5]"
   ]
  },
  {
   "cell_type": "code",
   "execution_count": 29,
   "metadata": {},
   "outputs": [
    {
     "data": {
      "text/plain": [
       "tensor([4.7428, 2.9543, 3.9813, 1.2329, 0.4108])"
      ]
     },
     "execution_count": 29,
     "metadata": {},
     "output_type": "execute_result"
    }
   ],
   "source": [
    "y = w@x + b\n",
    "y[:5]"
   ]
  },
  {
   "cell_type": "code",
   "execution_count": 30,
   "metadata": {},
   "outputs": [
    {
     "data": {
      "image/png": "[encoded data removed]",
      "text/plain": [
       "<Figure size 432x288 with 1 Axes>"
      ]
     },
     "metadata": {
      "needs_background": "light"
     },
     "output_type": "display_data"
    }
   ],
   "source": [
    "plt.scatter(w[:,0], y);"
   ]
  },
  {
   "cell_type": "markdown",
   "metadata": {},
   "source": [
    "### Gradient Descent - find **x** such that you minimize the error between points and __w@x__(mse-loss function)"
   ]
  },
  {
   "cell_type": "code",
   "execution_count": 31,
   "metadata": {},
   "outputs": [
    {
     "data": {
      "text/plain": [
       "(tensor([-1., -2.]), tensor([4.7428, 2.9543, 3.9813, 1.2329, 0.4108]))"
      ]
     },
     "execution_count": 31,
     "metadata": {},
     "output_type": "execute_result"
    }
   ],
   "source": [
    "def mse(y_hat, y):\n",
    "    return ((y_hat - y)**2).mean()\n",
    "\n",
    "x = tensor(-1., -2)\n",
    "y_hat = w@x\n",
    "\n",
    "x, y[:5]"
   ]
  },
  {
   "cell_type": "code",
   "execution_count": 32,
   "metadata": {},
   "outputs": [
    {
     "data": {
      "image/png": "[encoded data removed]",
      "text/plain": [
       "<Figure size 432x288 with 1 Axes>"
      ]
     },
     "metadata": {
      "needs_background": "light"
     },
     "output_type": "display_data"
    }
   ],
   "source": [
    "plt.scatter(w[:,0], y)\n",
    "plt.scatter(w[:,0], y_hat);"
   ]
  },
  {
   "cell_type": "code",
   "execution_count": 33,
   "metadata": {},
   "outputs": [
    {
     "data": {
      "text/plain": [
       "tensor(19.2446)"
      ]
     },
     "execution_count": 33,
     "metadata": {},
     "output_type": "execute_result"
    }
   ],
   "source": [
    "mse(y_hat, y)"
   ]
  },
  {
   "cell_type": "code",
   "execution_count": 34,
   "metadata": {},
   "outputs": [
    {
     "data": {
      "text/plain": [
       "Parameter containing:\n",
       "tensor([-1., -2.], requires_grad=True)"
      ]
     },
     "execution_count": 34,
     "metadata": {},
     "output_type": "execute_result"
    }
   ],
   "source": [
    "x = nn.Parameter(x)\n",
    "x"
   ]
  },
  {
   "cell_type": "code",
   "execution_count": 35,
   "metadata": {},
   "outputs": [],
   "source": [
    "def update():\n",
    "    y_hat = w@x\n",
    "    loss = mse(y_hat, y)\n",
    "    if t % 10 == 0:\n",
    "        print(loss, x)\n",
    "    loss.backward()\n",
    "    with torch.no_grad():\n",
    "        x.sub_(lr * x.grad)\n",
    "        x.grad.zero_()"
   ]
  },
  {
   "cell_type": "markdown",
   "metadata": {},
   "source": [
    "x.sub_() - https://discuss.pytorch.org/t/what-is-in-place-operation/16244"
   ]
  },
  {
   "cell_type": "code",
   "execution_count": 36,
   "metadata": {},
   "outputs": [
    {
     "name": "stdout",
     "output_type": "stream",
     "text": [
      "tensor(19.2446, grad_fn=<MeanBackward1>) Parameter containing:\n",
      "tensor([-1., -2.], requires_grad=True)\n",
      "tensor(2.1482, grad_fn=<MeanBackward1>) Parameter containing:\n",
      "tensor([0.8704, 1.3482], requires_grad=True)\n",
      "tensor(0.7600, grad_fn=<MeanBackward1>) Parameter containing:\n",
      "tensor([1.9411, 1.8058], requires_grad=True)\n",
      "tensor(0.4515, grad_fn=<MeanBackward1>) Parameter containing:\n",
      "tensor([2.4856, 1.9066], requires_grad=True)\n",
      "tensor(0.3765, grad_fn=<MeanBackward1>) Parameter containing:\n",
      "tensor([2.7563, 1.9433], requires_grad=True)\n",
      "tensor(0.3582, grad_fn=<MeanBackward1>) Parameter containing:\n",
      "tensor([2.8902, 1.9600], requires_grad=True)\n",
      "tensor(0.3537, grad_fn=<MeanBackward1>) Parameter containing:\n",
      "tensor([2.9564, 1.9682], requires_grad=True)\n",
      "tensor(0.3526, grad_fn=<MeanBackward1>) Parameter containing:\n",
      "tensor([2.9892, 1.9722], requires_grad=True)\n",
      "tensor(0.3524, grad_fn=<MeanBackward1>) Parameter containing:\n",
      "tensor([3.0054, 1.9741], requires_grad=True)\n",
      "tensor(0.3523, grad_fn=<MeanBackward1>) Parameter containing:\n",
      "tensor([3.0134, 1.9751], requires_grad=True)\n"
     ]
    }
   ],
   "source": [
    "lr = 1e-1\n",
    "for t in range(100):\n",
    "    update()"
   ]
  },
  {
   "cell_type": "code",
   "execution_count": 37,
   "metadata": {},
   "outputs": [
    {
     "data": {
      "image/png": "[encoded data removed]",
      "text/plain": [
       "<Figure size 432x288 with 1 Axes>"
      ]
     },
     "metadata": {
      "needs_background": "light"
     },
     "output_type": "display_data"
    }
   ],
   "source": [
    "y_hat = w@x\n",
    "\n",
    "plt.scatter(w[:,0],y)\n",
    "plt.scatter(w[:,0], y_hat);"
   ]
  },
  {
   "cell_type": "code",
   "execution_count": null,
   "metadata": {},
   "outputs": [],
   "source": []
  }
 ],
 "metadata": {
  "kernelspec": {
   "display_name": "Python 3",
   "language": "python",
   "name": "python3"
  },
  "language_info": {
   "codemirror_mode": {
    "name": "ipython",
    "version": 3
   },
   "file_extension": ".py",
   "mimetype": "text/x-python",
   "name": "python",
   "nbconvert_exporter": "python",
   "pygments_lexer": "ipython3",
   "version": "3.7.1"
  }
 },
 "nbformat": 4,
 "nbformat_minor": 2
}
