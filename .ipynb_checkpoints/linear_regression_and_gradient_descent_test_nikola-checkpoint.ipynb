{
 "cells": [
  {
   "cell_type": "code",
   "execution_count": 1,
   "metadata": {},
   "outputs": [],
   "source": [
    "from fastai.vision import *\n",
    "from fastai.metrics import error_rate "
   ]
  },
  {
   "cell_type": "code",
   "execution_count": 2,
   "metadata": {},
   "outputs": [
    {
     "data": {
      "text/plain": [
       "(tensor([[1., 1.],\n",
       "         [1., 1.],\n",
       "         [1., 1.],\n",
       "         [1., 1.],\n",
       "         [1., 1.]]),\n",
       " tensor([1., 1., 1., 1., 1.]),\n",
       " tensor([3., 2.]))"
      ]
     },
     "execution_count": 2,
     "metadata": {},
     "output_type": "execute_result"
    }
   ],
   "source": [
    "## z = wx + b\n",
    "## n number of rows\n",
    "n = 50\n",
    "## m number of columns \n",
    "m = 2\n",
    "\n",
    "w = torch.ones(n,m)\n",
    "b = torch.ones(n)\n",
    "x = tensor(3., 2)\n",
    "w[:5], b[:5], x"
   ]
  },
  {
   "cell_type": "code",
   "execution_count": 3,
   "metadata": {},
   "outputs": [
    {
     "data": {
      "text/plain": [
       "(tensor([[-0.1412,  1.0000],\n",
       "         [-0.1758,  1.0000],\n",
       "         [ 0.1255,  1.0000],\n",
       "         [ 0.1649,  1.0000],\n",
       "         [-0.9934,  1.0000]]),\n",
       " tensor([ 0.8638,  0.3712,  0.1833,  0.1407, -0.6273]))"
      ]
     },
     "execution_count": 3,
     "metadata": {},
     "output_type": "execute_result"
    }
   ],
   "source": [
    "w[:,0].uniform_(-1., 1)\n",
    "b.uniform_(-1., 1)\n",
    "w[:5], b[:5]"
   ]
  },
  {
   "cell_type": "code",
   "execution_count": 4,
   "metadata": {},
   "outputs": [
    {
     "data": {
      "text/plain": [
       "tensor([ 2.4401,  1.8437,  2.5598,  2.6354, -1.6076])"
      ]
     },
     "execution_count": 4,
     "metadata": {},
     "output_type": "execute_result"
    }
   ],
   "source": [
    "y = w@x + b\n",
    "y[:5]"
   ]
  },
  {
   "cell_type": "code",
   "execution_count": 5,
   "metadata": {},
   "outputs": [
    {
     "data": {
      "image/png": "[encoded data removed]",
      "text/plain": [
       "<Figure size 432x288 with 1 Axes>"
      ]
     },
     "metadata": {
      "needs_background": "light"
     },
     "output_type": "display_data"
    }
   ],
   "source": [
    "plt.scatter(w[:,0], y);"
   ]
  },
  {
   "cell_type": "markdown",
   "metadata": {},
   "source": [
    "### Gradient Descent - find **x** such that you minimize the error between points and __w@x__(mse-loss function)"
   ]
  },
  {
   "cell_type": "code",
   "execution_count": 15,
   "metadata": {},
   "outputs": [
    {
     "data": {
      "text/plain": [
       "(tensor([-1., -2.]), tensor([ 2.4401,  1.8437,  2.5598,  2.6354, -1.6076]))"
      ]
     },
     "execution_count": 15,
     "metadata": {},
     "output_type": "execute_result"
    }
   ],
   "source": [
    "def mse(y_hat, y):\n",
    "    return ((y_hat - y)**2).mean()\n",
    "\n",
    "x = tensor(-1., -2)\n",
    "y_hat = w@x\n",
    "\n",
    "x, y[:5]"
   ]
  },
  {
   "cell_type": "code",
   "execution_count": 16,
   "metadata": {},
   "outputs": [
    {
     "data": {
      "image/png": "[encoded data removed]",
      "text/plain": [
       "<Figure size 432x288 with 1 Axes>"
      ]
     },
     "metadata": {
      "needs_background": "light"
     },
     "output_type": "display_data"
    }
   ],
   "source": [
    "plt.scatter(w[:,0], y)\n",
    "plt.scatter(w[:,0], y_hat);"
   ]
  },
  {
   "cell_type": "code",
   "execution_count": 17,
   "metadata": {},
   "outputs": [
    {
     "data": {
      "text/plain": [
       "tensor(19.7109)"
      ]
     },
     "execution_count": 17,
     "metadata": {},
     "output_type": "execute_result"
    }
   ],
   "source": [
    "mse(y_hat, y)"
   ]
  },
  {
   "cell_type": "code",
   "execution_count": 18,
   "metadata": {},
   "outputs": [
    {
     "data": {
      "text/plain": [
       "Parameter containing:\n",
       "tensor([-1., -2.], requires_grad=True)"
      ]
     },
     "execution_count": 18,
     "metadata": {},
     "output_type": "execute_result"
    }
   ],
   "source": [
    "x = nn.Parameter(x)\n",
    "x"
   ]
  },
  {
   "cell_type": "code",
   "execution_count": 19,
   "metadata": {},
   "outputs": [],
   "source": [
    "def update():\n",
    "    y_hat = w@x\n",
    "    loss = mse(y_hat, y)\n",
    "    if t % 10 == 0:\n",
    "        print(loss, x)\n",
    "    loss.backward()\n",
    "    with torch.no_grad():\n",
    "        x.sub_(lr * x.grad)\n",
    "        x.grad.zero_()"
   ]
  },
  {
   "cell_type": "markdown",
   "metadata": {},
   "source": [
    "x.sub_() - https://discuss.pytorch.org/t/what-is-in-place-operation/16244"
   ]
  },
  {
   "cell_type": "code",
   "execution_count": 20,
   "metadata": {},
   "outputs": [
    {
     "name": "stdout",
     "output_type": "stream",
     "text": [
      "tensor(19.7109, grad_fn=<MeanBackward0>) Parameter containing:\n",
      "tensor([-1., -2.], requires_grad=True)\n",
      "tensor(2.1045, grad_fn=<MeanBackward0>) Parameter containing:\n",
      "tensor([1.0394, 1.3462], requires_grad=True)\n",
      "tensor(0.6367, grad_fn=<MeanBackward0>) Parameter containing:\n",
      "tensor([2.1251, 1.8458], requires_grad=True)\n",
      "tensor(0.3670, grad_fn=<MeanBackward0>) Parameter containing:\n",
      "tensor([2.6266, 1.9671], requires_grad=True)\n",
      "tensor(0.3138, grad_fn=<MeanBackward0>) Parameter containing:\n",
      "tensor([2.8517, 2.0107], requires_grad=True)\n",
      "tensor(0.3032, grad_fn=<MeanBackward0>) Parameter containing:\n",
      "tensor([2.9520, 2.0291], requires_grad=True)\n",
      "tensor(0.3012, grad_fn=<MeanBackward0>) Parameter containing:\n",
      "tensor([2.9967, 2.0372], requires_grad=True)\n",
      "tensor(0.3007, grad_fn=<MeanBackward0>) Parameter containing:\n",
      "tensor([3.0166, 2.0407], requires_grad=True)\n",
      "tensor(0.3007, grad_fn=<MeanBackward0>) Parameter containing:\n",
      "tensor([3.0255, 2.0423], requires_grad=True)\n",
      "tensor(0.3006, grad_fn=<MeanBackward0>) Parameter containing:\n",
      "tensor([3.0294, 2.0430], requires_grad=True)\n"
     ]
    }
   ],
   "source": [
    "lr = 1e-1\n",
    "for t in range(100):\n",
    "    update()"
   ]
  },
  {
   "cell_type": "code",
   "execution_count": 28,
   "metadata": {},
   "outputs": [],
   "source": [
    "y_hat = w@x"
   ]
  },
  {
   "cell_type": "code",
   "execution_count": 30,
   "metadata": {},
   "outputs": [
    {
     "data": {
      "image/png": "[encoded data removed]",
      "text/plain": [
       "<Figure size 432x288 with 1 Axes>"
      ]
     },
     "metadata": {
      "needs_background": "light"
     },
     "output_type": "display_data"
    }
   ],
   "source": [
    "y_hat = w@x\n",
    "\n",
    "plt.scatter(w[:,0],y)\n",
    "plt.scatter(w[:,0], y_hat.detach().numpy());"
   ]
  },
  {
   "cell_type": "code",
   "execution_count": null,
   "metadata": {},
   "outputs": [],
   "source": []
  }
 ],
 "metadata": {
  "kernelspec": {
   "display_name": "Python (fastai)",
   "language": "python",
   "name": "fastai"
  },
  "language_info": {
   "codemirror_mode": {
    "name": "ipython",
    "version": 3
   },
   "file_extension": ".py",
   "mimetype": "text/x-python",
   "name": "python",
   "nbconvert_exporter": "python",
   "pygments_lexer": "ipython3",
   "version": "3.6.10"
  }
 },
 "nbformat": 4,
 "nbformat_minor": 4
}
