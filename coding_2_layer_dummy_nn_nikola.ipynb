{
 "cells": [
  {
   "cell_type": "code",
   "execution_count": 461,
   "metadata": {},
   "outputs": [],
   "source": [
    "import numpy as np\n",
    "import pandas as pd\n",
    "import matplotlib.pyplot as plt\n",
    "from sklearn import preprocessing\n",
    "from sklearn.preprocessing import MinMaxScaler\n",
    "from sklearn import metrics\n",
    "from sklearn.metrics import confusion_matrix\n",
    "import itertools"
   ]
  },
  {
   "cell_type": "markdown",
   "metadata": {},
   "source": [
    "### Data Preparation (fake data)"
   ]
  },
  {
   "cell_type": "code",
   "execution_count": 462,
   "metadata": {},
   "outputs": [
    {
     "data": {
      "text/html": [
       "<div>\n",
       "<style scoped>\n",
       "    .dataframe tbody tr th:only-of-type {\n",
       "        vertical-align: middle;\n",
       "    }\n",
       "\n",
       "    .dataframe tbody tr th {\n",
       "        vertical-align: top;\n",
       "    }\n",
       "\n",
       "    .dataframe thead th {\n",
       "        text-align: right;\n",
       "    }\n",
       "</style>\n",
       "<table border=\"1\" class=\"dataframe\">\n",
       "  <thead>\n",
       "    <tr style=\"text-align: right;\">\n",
       "      <th></th>\n",
       "      <th>index</th>\n",
       "      <th>Height</th>\n",
       "      <th>Weight</th>\n",
       "      <th>BMI</th>\n",
       "    </tr>\n",
       "  </thead>\n",
       "  <tbody>\n",
       "    <tr>\n",
       "      <th>0</th>\n",
       "      <td>person_1</td>\n",
       "      <td>160</td>\n",
       "      <td>84</td>\n",
       "      <td>1</td>\n",
       "    </tr>\n",
       "    <tr>\n",
       "      <th>1</th>\n",
       "      <td>person_2</td>\n",
       "      <td>163</td>\n",
       "      <td>84</td>\n",
       "      <td>1</td>\n",
       "    </tr>\n",
       "    <tr>\n",
       "      <th>2</th>\n",
       "      <td>person_3</td>\n",
       "      <td>163</td>\n",
       "      <td>72</td>\n",
       "      <td>1</td>\n",
       "    </tr>\n",
       "    <tr>\n",
       "      <th>3</th>\n",
       "      <td>person_4</td>\n",
       "      <td>199</td>\n",
       "      <td>61</td>\n",
       "      <td>0</td>\n",
       "    </tr>\n",
       "    <tr>\n",
       "      <th>4</th>\n",
       "      <td>person_5</td>\n",
       "      <td>169</td>\n",
       "      <td>98</td>\n",
       "      <td>1</td>\n",
       "    </tr>\n",
       "    <tr>\n",
       "      <th>5</th>\n",
       "      <td>person_6</td>\n",
       "      <td>179</td>\n",
       "      <td>99</td>\n",
       "      <td>1</td>\n",
       "    </tr>\n",
       "    <tr>\n",
       "      <th>6</th>\n",
       "      <td>person_7</td>\n",
       "      <td>181</td>\n",
       "      <td>83</td>\n",
       "      <td>1</td>\n",
       "    </tr>\n",
       "    <tr>\n",
       "      <th>7</th>\n",
       "      <td>person_8</td>\n",
       "      <td>196</td>\n",
       "      <td>84</td>\n",
       "      <td>0</td>\n",
       "    </tr>\n",
       "    <tr>\n",
       "      <th>8</th>\n",
       "      <td>person_9</td>\n",
       "      <td>183</td>\n",
       "      <td>77</td>\n",
       "      <td>0</td>\n",
       "    </tr>\n",
       "    <tr>\n",
       "      <th>9</th>\n",
       "      <td>person_10</td>\n",
       "      <td>166</td>\n",
       "      <td>97</td>\n",
       "      <td>1</td>\n",
       "    </tr>\n",
       "  </tbody>\n",
       "</table>\n",
       "</div>"
      ],
      "text/plain": [
       "       index  Height  Weight  BMI\n",
       "0   person_1     160      84    1\n",
       "1   person_2     163      84    1\n",
       "2   person_3     163      72    1\n",
       "3   person_4     199      61    0\n",
       "4   person_5     169      98    1\n",
       "5   person_6     179      99    1\n",
       "6   person_7     181      83    1\n",
       "7   person_8     196      84    0\n",
       "8   person_9     183      77    0\n",
       "9  person_10     166      97    1"
      ]
     },
     "execution_count": 462,
     "metadata": {},
     "output_type": "execute_result"
    }
   ],
   "source": [
    "np.random.seed(0)\n",
    "\n",
    "columns = ['Height', 'Weight']\n",
    "index = ['person_' + str(x) for x in range(1, 11)]\n",
    "height_val = [np.random.randint(160, 200) for x in index]\n",
    "weight_val = [np.random.randint(60, 100) for x in index]\n",
    "values = zip(height_val, weight_val)\n",
    "\n",
    "df = pd.DataFrame(values, index=index, columns=columns)\n",
    "df = df.reset_index()\n",
    "df['BMI'] = ((df['Weight'] / df['Height']**2 * 10e3) > 25).astype(int)\n",
    "df"
   ]
  },
  {
   "cell_type": "code",
   "execution_count": 463,
   "metadata": {},
   "outputs": [
    {
     "data": {
      "text/html": [
       "<div>\n",
       "<style scoped>\n",
       "    .dataframe tbody tr th:only-of-type {\n",
       "        vertical-align: middle;\n",
       "    }\n",
       "\n",
       "    .dataframe tbody tr th {\n",
       "        vertical-align: top;\n",
       "    }\n",
       "\n",
       "    .dataframe thead th {\n",
       "        text-align: right;\n",
       "    }\n",
       "</style>\n",
       "<table border=\"1\" class=\"dataframe\">\n",
       "  <thead>\n",
       "    <tr style=\"text-align: right;\">\n",
       "      <th></th>\n",
       "      <th>Height</th>\n",
       "      <th>Weight</th>\n",
       "      <th>BMI</th>\n",
       "    </tr>\n",
       "  </thead>\n",
       "  <tbody>\n",
       "    <tr>\n",
       "      <th>0</th>\n",
       "      <td>160.0</td>\n",
       "      <td>84.0</td>\n",
       "      <td>1.0</td>\n",
       "    </tr>\n",
       "    <tr>\n",
       "      <th>1</th>\n",
       "      <td>163.0</td>\n",
       "      <td>84.0</td>\n",
       "      <td>1.0</td>\n",
       "    </tr>\n",
       "    <tr>\n",
       "      <th>2</th>\n",
       "      <td>163.0</td>\n",
       "      <td>72.0</td>\n",
       "      <td>1.0</td>\n",
       "    </tr>\n",
       "    <tr>\n",
       "      <th>3</th>\n",
       "      <td>199.0</td>\n",
       "      <td>61.0</td>\n",
       "      <td>0.0</td>\n",
       "    </tr>\n",
       "    <tr>\n",
       "      <th>4</th>\n",
       "      <td>169.0</td>\n",
       "      <td>98.0</td>\n",
       "      <td>1.0</td>\n",
       "    </tr>\n",
       "    <tr>\n",
       "      <th>5</th>\n",
       "      <td>179.0</td>\n",
       "      <td>99.0</td>\n",
       "      <td>1.0</td>\n",
       "    </tr>\n",
       "    <tr>\n",
       "      <th>6</th>\n",
       "      <td>181.0</td>\n",
       "      <td>83.0</td>\n",
       "      <td>1.0</td>\n",
       "    </tr>\n",
       "    <tr>\n",
       "      <th>7</th>\n",
       "      <td>196.0</td>\n",
       "      <td>84.0</td>\n",
       "      <td>0.0</td>\n",
       "    </tr>\n",
       "    <tr>\n",
       "      <th>8</th>\n",
       "      <td>183.0</td>\n",
       "      <td>77.0</td>\n",
       "      <td>0.0</td>\n",
       "    </tr>\n",
       "    <tr>\n",
       "      <th>9</th>\n",
       "      <td>166.0</td>\n",
       "      <td>97.0</td>\n",
       "      <td>1.0</td>\n",
       "    </tr>\n",
       "  </tbody>\n",
       "</table>\n",
       "</div>"
      ],
      "text/plain": [
       "   Height  Weight  BMI\n",
       "0   160.0    84.0  1.0\n",
       "1   163.0    84.0  1.0\n",
       "2   163.0    72.0  1.0\n",
       "3   199.0    61.0  0.0\n",
       "4   169.0    98.0  1.0\n",
       "5   179.0    99.0  1.0\n",
       "6   181.0    83.0  1.0\n",
       "7   196.0    84.0  0.0\n",
       "8   183.0    77.0  0.0\n",
       "9   166.0    97.0  1.0"
      ]
     },
     "execution_count": 463,
     "metadata": {},
     "output_type": "execute_result"
    }
   ],
   "source": [
    "df.drop('index', axis=1, inplace=True)\n",
    "df = df.astype(float)\n",
    "df"
   ]
  },
  {
   "cell_type": "code",
   "execution_count": 517,
   "metadata": {},
   "outputs": [
    {
     "data": {
      "text/html": [
       "<div>\n",
       "<style scoped>\n",
       "    .dataframe tbody tr th:only-of-type {\n",
       "        vertical-align: middle;\n",
       "    }\n",
       "\n",
       "    .dataframe tbody tr th {\n",
       "        vertical-align: top;\n",
       "    }\n",
       "\n",
       "    .dataframe thead th {\n",
       "        text-align: right;\n",
       "    }\n",
       "</style>\n",
       "<table border=\"1\" class=\"dataframe\">\n",
       "  <thead>\n",
       "    <tr style=\"text-align: right;\">\n",
       "      <th></th>\n",
       "      <th>Height</th>\n",
       "      <th>Weight</th>\n",
       "      <th>BMI</th>\n",
       "    </tr>\n",
       "  </thead>\n",
       "  <tbody>\n",
       "    <tr>\n",
       "      <th>0</th>\n",
       "      <td>0.000000</td>\n",
       "      <td>0.605263</td>\n",
       "      <td>1.0</td>\n",
       "    </tr>\n",
       "    <tr>\n",
       "      <th>1</th>\n",
       "      <td>0.076923</td>\n",
       "      <td>0.605263</td>\n",
       "      <td>1.0</td>\n",
       "    </tr>\n",
       "    <tr>\n",
       "      <th>2</th>\n",
       "      <td>0.076923</td>\n",
       "      <td>0.289474</td>\n",
       "      <td>1.0</td>\n",
       "    </tr>\n",
       "    <tr>\n",
       "      <th>3</th>\n",
       "      <td>1.000000</td>\n",
       "      <td>0.000000</td>\n",
       "      <td>0.0</td>\n",
       "    </tr>\n",
       "    <tr>\n",
       "      <th>4</th>\n",
       "      <td>0.230769</td>\n",
       "      <td>0.973684</td>\n",
       "      <td>1.0</td>\n",
       "    </tr>\n",
       "    <tr>\n",
       "      <th>5</th>\n",
       "      <td>0.487179</td>\n",
       "      <td>1.000000</td>\n",
       "      <td>1.0</td>\n",
       "    </tr>\n",
       "    <tr>\n",
       "      <th>6</th>\n",
       "      <td>0.538462</td>\n",
       "      <td>0.578947</td>\n",
       "      <td>1.0</td>\n",
       "    </tr>\n",
       "    <tr>\n",
       "      <th>7</th>\n",
       "      <td>0.923077</td>\n",
       "      <td>0.605263</td>\n",
       "      <td>0.0</td>\n",
       "    </tr>\n",
       "    <tr>\n",
       "      <th>8</th>\n",
       "      <td>0.589744</td>\n",
       "      <td>0.421053</td>\n",
       "      <td>0.0</td>\n",
       "    </tr>\n",
       "    <tr>\n",
       "      <th>9</th>\n",
       "      <td>0.153846</td>\n",
       "      <td>0.947368</td>\n",
       "      <td>1.0</td>\n",
       "    </tr>\n",
       "  </tbody>\n",
       "</table>\n",
       "</div>"
      ],
      "text/plain": [
       "     Height    Weight  BMI\n",
       "0  0.000000  0.605263  1.0\n",
       "1  0.076923  0.605263  1.0\n",
       "2  0.076923  0.289474  1.0\n",
       "3  1.000000  0.000000  0.0\n",
       "4  0.230769  0.973684  1.0\n",
       "5  0.487179  1.000000  1.0\n",
       "6  0.538462  0.578947  1.0\n",
       "7  0.923077  0.605263  0.0\n",
       "8  0.589744  0.421053  0.0\n",
       "9  0.153846  0.947368  1.0"
      ]
     },
     "execution_count": 517,
     "metadata": {},
     "output_type": "execute_result"
    }
   ],
   "source": [
    "names = df.columns[:2]\n",
    "scaler = MinMaxScaler()\n",
    "scaled_df = scaler.fit_transform(df.iloc[:,:2])\n",
    "scaled_df = pd.DataFrame(scaled_df, columns=names)\n",
    "scaled_df['BMI'] = df['BMI']\n",
    "scaled_df"
   ]
  },
  {
   "cell_type": "code",
   "execution_count": 516,
   "metadata": {},
   "outputs": [
    {
     "data": {
      "text/html": [
       "<div>\n",
       "<style scoped>\n",
       "    .dataframe tbody tr th:only-of-type {\n",
       "        vertical-align: middle;\n",
       "    }\n",
       "\n",
       "    .dataframe tbody tr th {\n",
       "        vertical-align: top;\n",
       "    }\n",
       "\n",
       "    .dataframe thead th {\n",
       "        text-align: right;\n",
       "    }\n",
       "</style>\n",
       "<table border=\"1\" class=\"dataframe\">\n",
       "  <thead>\n",
       "    <tr style=\"text-align: right;\">\n",
       "      <th></th>\n",
       "      <th>0</th>\n",
       "      <th>1</th>\n",
       "      <th>2</th>\n",
       "      <th>3</th>\n",
       "      <th>4</th>\n",
       "      <th>5</th>\n",
       "      <th>6</th>\n",
       "      <th>7</th>\n",
       "      <th>8</th>\n",
       "      <th>9</th>\n",
       "    </tr>\n",
       "  </thead>\n",
       "  <tbody>\n",
       "    <tr>\n",
       "      <th>Height</th>\n",
       "      <td>0.000000</td>\n",
       "      <td>0.076923</td>\n",
       "      <td>0.076923</td>\n",
       "      <td>1.0</td>\n",
       "      <td>0.230769</td>\n",
       "      <td>0.487179</td>\n",
       "      <td>0.538462</td>\n",
       "      <td>0.923077</td>\n",
       "      <td>0.589744</td>\n",
       "      <td>0.153846</td>\n",
       "    </tr>\n",
       "    <tr>\n",
       "      <th>Weight</th>\n",
       "      <td>0.605263</td>\n",
       "      <td>0.605263</td>\n",
       "      <td>0.289474</td>\n",
       "      <td>0.0</td>\n",
       "      <td>0.973684</td>\n",
       "      <td>1.000000</td>\n",
       "      <td>0.578947</td>\n",
       "      <td>0.605263</td>\n",
       "      <td>0.421053</td>\n",
       "      <td>0.947368</td>\n",
       "    </tr>\n",
       "    <tr>\n",
       "      <th>BMI</th>\n",
       "      <td>1.000000</td>\n",
       "      <td>1.000000</td>\n",
       "      <td>1.000000</td>\n",
       "      <td>0.0</td>\n",
       "      <td>1.000000</td>\n",
       "      <td>1.000000</td>\n",
       "      <td>1.000000</td>\n",
       "      <td>0.000000</td>\n",
       "      <td>0.000000</td>\n",
       "      <td>1.000000</td>\n",
       "    </tr>\n",
       "  </tbody>\n",
       "</table>\n",
       "</div>"
      ],
      "text/plain": [
       "               0         1         2    3         4         5         6  \\\n",
       "Height  0.000000  0.076923  0.076923  1.0  0.230769  0.487179  0.538462   \n",
       "Weight  0.605263  0.605263  0.289474  0.0  0.973684  1.000000  0.578947   \n",
       "BMI     1.000000  1.000000  1.000000  0.0  1.000000  1.000000  1.000000   \n",
       "\n",
       "               7         8         9  \n",
       "Height  0.923077  0.589744  0.153846  \n",
       "Weight  0.605263  0.421053  0.947368  \n",
       "BMI     0.000000  0.000000  1.000000  "
      ]
     },
     "execution_count": 516,
     "metadata": {},
     "output_type": "execute_result"
    }
   ],
   "source": [
    "scaled_df_ts = scaled_df.transpose()\n",
    "scaled_df_ts"
   ]
  },
  {
   "cell_type": "code",
   "execution_count": 526,
   "metadata": {},
   "outputs": [
    {
     "data": {
      "text/plain": [
       "(array([[0.        , 0.07692308, 0.07692308, 1.        , 0.23076923,\n",
       "         0.48717949, 0.53846154, 0.92307692],\n",
       "        [0.60526316, 0.60526316, 0.28947368, 0.        , 0.97368421,\n",
       "         1.        , 0.57894737, 0.60526316]]),\n",
       " (2, 8),\n",
       " array([[1., 1., 1., 0., 1., 1., 1., 0.]]),\n",
       " (1, 8))"
      ]
     },
     "execution_count": 526,
     "metadata": {},
     "output_type": "execute_result"
    }
   ],
   "source": [
    "x = scaled_df.iloc[:8,:2].values.transpose()\n",
    "y = scaled_df.iloc[:8,2:].values.transpose()\n",
    "\n",
    "xval = scaled_df.iloc[8:,:2].values.transpose()\n",
    "yval = scaled_df.iloc[8:,2:].values.transpose()\n",
    "\n",
    "x, x.shape, y, y.shape"
   ]
  },
  {
   "cell_type": "markdown",
   "metadata": {},
   "source": [
    "### Creating Neural Networl Class"
   ]
  },
  {
   "cell_type": "code",
   "execution_count": 527,
   "metadata": {},
   "outputs": [],
   "source": [
    "def Sigmoid(Z):\n",
    "    return 1/(1+np.exp(-Z))\n",
    "\n",
    "def Relu(Z):\n",
    "    return np.maximum(0,Z)\n",
    "\n",
    "class Dlnet(object):\n",
    "    def __init__(self, x, y):\n",
    "        self.X = x\n",
    "        self.Y = y\n",
    "        self.Yh = np.zeros((1, self.Y.shape[1]))\n",
    "        \n",
    "        self.dims = [2,3,1]\n",
    "        \n",
    "        self.param = {}\n",
    "        self.ch = {}\n",
    "        \n",
    "        self.sam = self.Y.shape[1]\n",
    "        \n",
    "    def ninit(self):\n",
    "        np.random.seed(1)\n",
    "        self.param['W1'] = np.random.randn(self.dims[1], self.dims[0]) / np.sqrt(self.dims[0])\n",
    "        self.param['b1'] = np.zeros((self.dims[1],1))\n",
    "        self.param['W2'] = np.random.randn(self.dims[2], self.dims[1]) / np.sqrt(self.dims[1])\n",
    "        self.param['b2'] = np.zeros((self.dims[2],1))\n",
    "        return\n",
    "   \n",
    "    def nloss(self,Yh):\n",
    "        loss = (1./self.sam) * (-np.dot(self.Y,np.log(Yh).T) - np.dot(1-self.Y, np.log(1-Yh).T))    \n",
    "        return loss\n",
    "    \n",
    "    def forward(self):    \n",
    "        Z1 = self.param['W1'].dot(self.X) + self.param['b1'] \n",
    "        A1 = Relu(Z1)\n",
    "        self.ch['Z1'],self.ch['A1']=Z1,A1\n",
    "        \n",
    "        Z2 = self.param['W2'].dot(A1) + self.param['b2']  \n",
    "        A2 = Sigmoid(Z2)\n",
    "        self.ch['Z2'],self.ch['A2']=Z2,A2\n",
    "\n",
    "        self.Yh=A2\n",
    "        #loss=self.nloss(A2)\n",
    "        return self.Yh#,loss"
   ]
  },
  {
   "cell_type": "code",
   "execution_count": 528,
   "metadata": {},
   "outputs": [
    {
     "data": {
      "text/plain": [
       "(array([[0.        ],\n",
       "        [0.60526316]]), (2, 1), array([[1.]]), (1, 1))"
      ]
     },
     "execution_count": 528,
     "metadata": {},
     "output_type": "execute_result"
    }
   ],
   "source": [
    "x_ = x[:, :1]\n",
    "y_ = y[:, :1]\n",
    "x_, x_.shape, y_, y_.shape"
   ]
  },
  {
   "cell_type": "code",
   "execution_count": 536,
   "metadata": {},
   "outputs": [
    {
     "data": {
      "text/plain": [
       "{'W1': array([[ 1.14858562, -0.43257711],\n",
       "        [-0.37347383, -0.75870339],\n",
       "        [ 0.6119356 , -1.62743362]]), 'b1': array([[0.],\n",
       "        [0.],\n",
       "        [0.]]), 'W2': array([[ 1.00736754, -0.43948301,  0.18419731]]), 'b2': array([[0.]])}"
      ]
     },
     "execution_count": 536,
     "metadata": {},
     "output_type": "execute_result"
    }
   ],
   "source": [
    "nn_ = Dlnet(x_, y_)\n",
    "nn_.ninit()\n",
    "nn.param"
   ]
  },
  {
   "cell_type": "code",
   "execution_count": 535,
   "metadata": {},
   "outputs": [
    {
     "data": {
      "text/plain": [
       "(array([[0.5]]), (1, 1), {'Z1': array([[-0.26182299],\n",
       "         [-0.45921521],\n",
       "         [-0.98502561]]), 'A1': array([[0.],\n",
       "         [0.],\n",
       "         [0.]]), 'Z2': array([[0.]]), 'A2': array([[0.5]])})"
      ]
     },
     "execution_count": 535,
     "metadata": {},
     "output_type": "execute_result"
    }
   ],
   "source": [
    "yh = nn_.forward()\n",
    "yh, yh.shape, nn_.ch"
   ]
  },
  {
   "cell_type": "code",
   "execution_count": 530,
   "metadata": {},
   "outputs": [
    {
     "data": {
      "text/plain": [
       "(array([[0.        , 0.07692308, 0.07692308, 1.        , 0.23076923,\n",
       "         0.48717949, 0.53846154, 0.92307692],\n",
       "        [0.60526316, 0.60526316, 0.28947368, 0.        , 0.97368421,\n",
       "         1.        , 0.57894737, 0.60526316]]),\n",
       " (2, 8),\n",
       " array([[1., 1., 1., 0., 1., 1., 1., 0.]]),\n",
       " (1, 8))"
      ]
     },
     "execution_count": 530,
     "metadata": {},
     "output_type": "execute_result"
    }
   ],
   "source": [
    "x, x.shape, y, y.shape"
   ]
  },
  {
   "cell_type": "code",
   "execution_count": 533,
   "metadata": {},
   "outputs": [
    {
     "data": {
      "text/plain": [
       "(array([[0.5       , 0.5       , 0.5       , 0.78070248, 0.5       ,\n",
       "         0.53193792, 0.59163808, 0.69089188]]),\n",
       " (1, 8),\n",
       " {'Z1': array([[-0.26182299, -0.17347025, -0.03686695,  1.14858562, -0.15613528,\n",
       "           0.12699025,  0.3680298 ,  0.79840989],\n",
       "         [-0.45921521, -0.48794396, -0.24835342, -0.37347383, -0.82492378,\n",
       "          -0.94065218, -0.64035062, -0.80396028],\n",
       "         [-0.98502561, -0.93795364, -0.42402724,  0.6119356 , -1.44339051,\n",
       "          -1.32931115, -0.61269463, -0.42016198]]),\n",
       "  'A1': array([[0.        , 0.        , 0.        , 1.14858562, 0.        ,\n",
       "          0.12699025, 0.3680298 , 0.79840989],\n",
       "         [0.        , 0.        , 0.        , 0.        , 0.        ,\n",
       "          0.        , 0.        , 0.        ],\n",
       "         [0.        , 0.        , 0.        , 0.6119356 , 0.        ,\n",
       "          0.        , 0.        , 0.        ]]),\n",
       "  'Z2': array([[0.        , 0.        , 0.        , 1.26976476, 0.        ,\n",
       "          0.12792585, 0.37074128, 0.80429221]]),\n",
       "  'A2': array([[0.5       , 0.5       , 0.5       , 0.78070248, 0.5       ,\n",
       "          0.53193792, 0.59163808, 0.69089188]])})"
      ]
     },
     "execution_count": 533,
     "metadata": {},
     "output_type": "execute_result"
    }
   ],
   "source": [
    "nn = Dlnet(x,y)\n",
    "nn.ninit()\n",
    "yh = nn.forward()\n",
    "yh, yh.shape, nn.ch"
   ]
  },
  {
   "cell_type": "code",
   "execution_count": 509,
   "metadata": {},
   "outputs": [
    {
     "data": {
      "text/plain": [
       "0.3090836886229291"
      ]
     },
     "execution_count": 509,
     "metadata": {},
     "output_type": "execute_result"
    }
   ],
   "source": [
    "def mse(y_hat, y):\n",
    "    return ((yh - y)**2).mean()\n",
    "\n",
    "mse(yh, y)"
   ]
  },
  {
   "cell_type": "code",
   "execution_count": null,
   "metadata": {},
   "outputs": [],
   "source": []
  }
 ],
 "metadata": {
  "kernelspec": {
   "display_name": "Python 3",
   "language": "python",
   "name": "python3"
  },
  "language_info": {
   "codemirror_mode": {
    "name": "ipython",
    "version": 3
   },
   "file_extension": ".py",
   "mimetype": "text/x-python",
   "name": "python",
   "nbconvert_exporter": "python",
   "pygments_lexer": "ipython3",
   "version": "3.7.3"
  }
 },
 "nbformat": 4,
 "nbformat_minor": 2
}
