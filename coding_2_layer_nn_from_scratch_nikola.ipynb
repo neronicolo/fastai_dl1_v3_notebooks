{
 "cells": [
  {
   "cell_type": "markdown",
   "metadata": {},
   "source": [
    "**First we import some standard Python libraries.**\n",
    "\n",
    "[**Numpy**](https://docs.scipy.org/doc/numpy/user/quickstart.html) for linear algebra and array functionality.</br>\n",
    "[**Pandas**](http://pandas.pydata.org/pandas-docs/stable/getting_started/index.html) for dataframes when importing and preparing our data.</br>\n",
    "[**Matplotlib**](https://matplotlib.org/tutorials/introductory/pyplot.html) for plotting charts.</br>\n",
    "[**Sklearn**](https://scikit-learn.org/stable/documentation.html) for normalizing our data and displaying useful graphs, such as confusion matrices.</br>\n",
    "[**Itertools**](https://docs.python.org/3/library/itertools.html) for functions creating iterators for efficient looping."
   ]
  },
  {
   "cell_type": "code",
   "execution_count": 1,
   "metadata": {},
   "outputs": [],
   "source": [
    "import numpy as np\n",
    "import pandas as pd\n",
    "import matplotlib.pyplot as plt\n",
    "from sklearn import preprocessing\n",
    "from sklearn.preprocessing import MinMaxScaler\n",
    "from sklearn import metrics\n",
    "from sklearn.metrics import confusion_matrix\n",
    "import itertools"
   ]
  },
  {
   "cell_type": "markdown",
   "metadata": {},
   "source": [
    "Next, we create **a Python class that setups and initializes our network.**"
   ]
  },
  {
   "cell_type": "code",
   "execution_count": 3,
   "metadata": {},
   "outputs": [],
   "source": [
    "class Dlnet(object):\n",
    "    def __init__(self, x, y):\n",
    "        self.X = x\n",
    "        self.Y = y\n",
    "        self.Yh = np.zeros((1, self.Y.shape[1]))\n",
    "        \n",
    "        self.L = 2\n",
    "        self.dims = [9,15,1]\n",
    "        \n",
    "        self.param = {}\n",
    "        self.ch = {}\n",
    "        self.grad = {}\n",
    "        \n",
    "        self.loss = []\n",
    "        self.lr = 0.003\n",
    "        self.sam = self.Y.shape[1]"
   ]
  }
 ],
 "metadata": {
  "kernelspec": {
   "display_name": "Python 3",
   "language": "python",
   "name": "python3"
  },
  "language_info": {
   "codemirror_mode": {
    "name": "ipython",
    "version": 3
   },
   "file_extension": ".py",
   "mimetype": "text/x-python",
   "name": "python",
   "nbconvert_exporter": "python",
   "pygments_lexer": "ipython3",
   "version": "3.7.1"
  }
 },
 "nbformat": 4,
 "nbformat_minor": 2
}
